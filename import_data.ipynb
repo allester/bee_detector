{
 "cells": [
  {
   "cell_type": "code",
   "execution_count": 18,
   "id": "94f0889c-d037-48a6-8cbe-390d5164a25d",
   "metadata": {},
   "outputs": [],
   "source": [
    "from urllib import request\n",
    "import pandas as pd"
   ]
  },
  {
   "cell_type": "code",
   "execution_count": 19,
   "id": "7597988a-0100-485f-9e36-6a3ff2728093",
   "metadata": {},
   "outputs": [],
   "source": [
    "df = pd.read_csv('observations-334629.csv')\n",
    "df = df[[\"id\", \"image_url\"]]"
   ]
  },
  {
   "cell_type": "code",
   "execution_count": 20,
   "id": "dc2c4408-eda9-4360-aab5-54c683150d56",
   "metadata": {
    "tags": []
   },
   "outputs": [],
   "source": [
    "for observation in df.values:\n",
    "    specimen_id, image_url = observation\n",
    "    request.urlretrieve(image_url, \"data\\\\\" + str(specimen_id) + \".jpg\")"
   ]
  }
 ],
 "metadata": {
  "kernelspec": {
   "display_name": "Python 3 (ipykernel)",
   "language": "python",
   "name": "python3"
  },
  "language_info": {
   "codemirror_mode": {
    "name": "ipython",
    "version": 3
   },
   "file_extension": ".py",
   "mimetype": "text/x-python",
   "name": "python",
   "nbconvert_exporter": "python",
   "pygments_lexer": "ipython3",
   "version": "3.10.9"
  }
 },
 "nbformat": 4,
 "nbformat_minor": 5
}
