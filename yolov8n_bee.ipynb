{
 "cells": [
  {
   "cell_type": "code",
   "execution_count": 1,
   "id": "c7c33e86-837b-4491-8753-7f6bcf2566c7",
   "metadata": {},
   "outputs": [],
   "source": [
    "import os\n",
    "os.environ[\"KMP_DUPLICATE_LIB_OK\"]=\"TRUE\""
   ]
  },
  {
   "cell_type": "code",
   "execution_count": 2,
   "id": "7b9e6d8f-3e96-48ac-badd-5e2e5c7cd2ad",
   "metadata": {},
   "outputs": [],
   "source": [
    "from ultralytics import YOLO\n",
    " \n",
    "# Load the model.\n",
    "model = YOLO('yolov8n.pt')"
   ]
  },
  {
   "cell_type": "code",
   "execution_count": null,
   "id": "f8963260-2b62-43e1-81d0-2b68dee5bfd8",
   "metadata": {
    "tags": []
   },
   "outputs": [],
   "source": [
    "#### Training.\n",
    "results = model.train(\n",
    "   data='bee_data.yaml',\n",
    "   epochs=10,\n",
    "   batch=8,\n",
    "   name='yolov8n_bee')"
   ]
  },
  {
   "cell_type": "code",
   "execution_count": 19,
   "id": "4b4691df-a35b-46ec-92c0-5552f0849358",
   "metadata": {
    "tags": []
   },
   "outputs": [],
   "source": [
    "import cv2"
   ]
  },
  {
   "cell_type": "code",
   "execution_count": 25,
   "id": "00769ca8-50b3-42c4-92f8-178dea76a259",
   "metadata": {
    "tags": []
   },
   "outputs": [],
   "source": [
    "res_plotted = results[0].plot()\n",
    "cv2.imshow(\"result\", res_plotted)\n",
    "cv2.waitKey(0)\n",
    "cv2.destroyAllWindows()"
   ]
  },
  {
   "cell_type": "code",
   "execution_count": null,
   "id": "b071a444-c913-4956-bb6f-636eefa579ee",
   "metadata": {},
   "outputs": [],
   "source": []
  }
 ],
 "metadata": {
  "kernelspec": {
   "display_name": "Python 3 (ipykernel)",
   "language": "python",
   "name": "python3"
  },
  "language_info": {
   "codemirror_mode": {
    "name": "ipython",
    "version": 3
   },
   "file_extension": ".py",
   "mimetype": "text/x-python",
   "name": "python",
   "nbconvert_exporter": "python",
   "pygments_lexer": "ipython3",
   "version": "3.10.9"
  }
 },
 "nbformat": 4,
 "nbformat_minor": 5
}
